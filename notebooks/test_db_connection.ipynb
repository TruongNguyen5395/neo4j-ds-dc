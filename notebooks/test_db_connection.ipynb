{
 "cells": [
  {
   "cell_type": "markdown",
   "id": "modular-leone",
   "metadata": {},
   "source": [
    "## This notebook checks that Python is able to connect to the graph.  Assuming this block runs (on an empty database) and returns 0 nodes in the graph, you are good to go!"
   ]
  },
  {
   "cell_type": "code",
   "execution_count": 3,
   "id": "preliminary-virginia",
   "metadata": {},
   "outputs": [],
   "source": [
    "from py2neo import Node, Graph"
   ]
  },
  {
   "cell_type": "code",
   "execution_count": 5,
   "id": "prescription-basket",
   "metadata": {},
   "outputs": [
    {
     "name": "stdout",
     "output_type": "stream",
     "text": [
      "Number of nodes in graph:  0\n"
     ]
    }
   ],
   "source": [
    "graph = Graph(\"bolt://neo4j:7687\", name=\"neo4j\", password=\"1234\")\n",
    "print('Number of nodes in graph: ', graph.nodes.match('Node').count())"
   ]
  },
  {
   "cell_type": "code",
   "execution_count": null,
   "id": "awful-vertical",
   "metadata": {},
   "outputs": [],
   "source": []
  }
 ],
 "metadata": {
  "kernelspec": {
   "display_name": "Python 3",
   "language": "python",
   "name": "python3"
  },
  "language_info": {
   "codemirror_mode": {
    "name": "ipython",
    "version": 3
   },
   "file_extension": ".py",
   "mimetype": "text/x-python",
   "name": "python",
   "nbconvert_exporter": "python",
   "pygments_lexer": "ipython3",
   "version": "3.8.8"
  }
 },
 "nbformat": 4,
 "nbformat_minor": 5
}
